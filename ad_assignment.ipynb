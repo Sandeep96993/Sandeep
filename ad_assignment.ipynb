{
 "cells": [
  {
   "cell_type": "code",
   "execution_count": 1,
   "id": "d2f5337d-219b-4090-95a8-04c466f76a4e",
   "metadata": {},
   "outputs": [
    {
     "name": "stdin",
     "output_type": "stream",
     "text": [
      "Enter a positive integer:  2\n"
     ]
    },
    {
     "name": "stdout",
     "output_type": "stream",
     "text": [
      "Numbers from 1 to 2\n",
      "1\n",
      "2\n",
      "The sum of all numbers from 1 to 2 is: 3\n"
     ]
    }
   ],
   "source": [
    "n = int(input(\"Enter a positive integer: \"))\n",
    "\n",
    "print(\"Numbers from 1 to\", n)\n",
    "for number in range(1, n + 1):\n",
    "    print(number)\n",
    "\n",
    "sum_of_numbers = 0\n",
    "current_number = 1\n",
    "while current_number <= n:\n",
    "    sum_of_numbers += current_number\n",
    "    current_number += 1\n",
    "\n",
    "print(\"The sum of all numbers from 1 to\", n, \"is:\", sum_of_numbers)"
   ]
  },
  {
   "cell_type": "code",
   "execution_count": 3,
   "id": "67a9e2db-66a8-4f4a-a258-b9114e71bb0f",
   "metadata": {},
   "outputs": [
    {
     "name": "stdin",
     "output_type": "stream",
     "text": [
      "Enter a positive integer:  5\n"
     ]
    },
    {
     "name": "stdout",
     "output_type": "stream",
     "text": [
      "The square of 5 is: 25\n"
     ]
    }
   ],
   "source": [
    "def calculate_square(n):\n",
    "    return n ** 2\n",
    "\n",
    "n = int(input(\"Enter a positive integer: \"))\n",
    "\n",
    "result = calculate_square(n)\n",
    "print(f\"The square of {n} is: {result}\")\n"
   ]
  },
  {
   "cell_type": "code",
   "execution_count": null,
   "id": "5247c69d-88a9-4e78-8b70-52bf785ba2c9",
   "metadata": {},
   "outputs": [],
   "source": []
  }
 ],
 "metadata": {
  "kernelspec": {
   "display_name": "Python [conda env:base] *",
   "language": "python",
   "name": "conda-base-py"
  },
  "language_info": {
   "codemirror_mode": {
    "name": "ipython",
    "version": 3
   },
   "file_extension": ".py",
   "mimetype": "text/x-python",
   "name": "python",
   "nbconvert_exporter": "python",
   "pygments_lexer": "ipython3",
   "version": "3.12.7"
  }
 },
 "nbformat": 4,
 "nbformat_minor": 5
}
