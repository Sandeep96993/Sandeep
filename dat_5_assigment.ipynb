{
  "nbformat": 4,
  "nbformat_minor": 0,
  "metadata": {
    "colab": {
      "provenance": [],
      "authorship_tag": "ABX9TyMK5Q3V4kav9xHNE8c9T8Ss",
      "include_colab_link": true
    },
    "kernelspec": {
      "name": "python3",
      "display_name": "Python 3"
    },
    "language_info": {
      "name": "python"
    }
  },
  "cells": [
    {
      "cell_type": "markdown",
      "metadata": {
        "id": "view-in-github",
        "colab_type": "text"
      },
      "source": [
        "<a href=\"https://colab.research.google.com/github/Sandeep96993/Sandeep/blob/main/dat_5_assigment.ipynb\" target=\"_parent\"><img src=\"https://colab.research.google.com/assets/colab-badge.svg\" alt=\"Open In Colab\"/></a>"
      ]
    },
    {
      "cell_type": "code",
      "execution_count": 2,
      "metadata": {
        "colab": {
          "base_uri": "https://localhost:8080/"
        },
        "id": "ZAT1oKiSe8lO",
        "outputId": "0ea2c800-5707-4092-faa1-a298e3cc6d4e"
      },
      "outputs": [
        {
          "output_type": "stream",
          "name": "stdout",
          "text": [
            "Enter a positive integer: 4\n",
            "Numbers from 1 to 4\n",
            "1\n",
            "2\n",
            "3\n",
            "4\n",
            "The sum of all numbers from 1 to 4 is: 10\n"
          ]
        }
      ],
      "source": [
        "n = int(input(\"Enter a positive integer: \"))\n",
        "\n",
        "print(\"Numbers from 1 to\", n)\n",
        "for number in range(1, n + 1):\n",
        "    print(number)\n",
        "\n",
        "sum_of_numbers = 0\n",
        "current_number = 1\n",
        "while current_number <= n:\n",
        "    sum_of_numbers += current_number\n",
        "    current_number += 1\n",
        "\n",
        "print(\"The sum of all numbers from 1 to\", n, \"is:\", sum_of_numbers)\n"
      ]
    },
    {
      "cell_type": "code",
      "source": [
        "def calculate_square(n):\n",
        "    return n ** 2\n",
        "\n",
        "n = int(input(\"Enter a positive integer: \"))\n",
        "\n",
        "result = calculate_square(n)\n",
        "print(f\"The square of {n} is: {result}\")"
      ],
      "metadata": {
        "colab": {
          "base_uri": "https://localhost:8080/"
        },
        "id": "8COLwh5LfQf3",
        "outputId": "bca034b9-ee20-4664-b8c6-124c069dba35"
      },
      "execution_count": 3,
      "outputs": [
        {
          "output_type": "stream",
          "name": "stdout",
          "text": [
            "Enter a positive integer: 5\n",
            "The square of 5 is: 25\n"
          ]
        }
      ]
    }
  ]
}